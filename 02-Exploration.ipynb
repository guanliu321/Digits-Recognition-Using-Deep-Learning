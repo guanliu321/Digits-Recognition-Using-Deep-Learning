{
 "cells": [
  {
   "cell_type": "code",
   "execution_count": 3,
   "metadata": {
    "collapsed": false
   },
   "outputs": [],
   "source": [
    "# These are all the modules we'll be using later. Make sure you can import them\n",
    "# before proceeding further.\n",
    "from __future__ import print_function\n",
    "import matplotlib.pyplot as plt\n",
    "import numpy as np\n",
    "import os\n",
    "import sys\n",
    "import tarfile\n",
    "from IPython.display import display, Image\n",
    "from scipy import ndimage\n",
    "from six.moves.urllib.request import urlretrieve\n",
    "from six.moves import cPickle as pickle\n",
    "import string\n",
    "import h5py\n",
    "import matplotlib\n",
    "from collections import Counter\n",
    "# Config the matlotlib backend as plotting inline in IPython\n",
    "%matplotlib inline\n",
    "\n",
    "\n",
    "pixel_depth = 255.0  # Number of levels per pixel.\n",
    "screen_width = 800\n",
    "screen_height = 600"
   ]
  },
  {
   "cell_type": "code",
   "execution_count": 6,
   "metadata": {
    "collapsed": false
   },
   "outputs": [],
   "source": [
    "def get_attr(c, i, attr):\n",
    "    d = c[c['digitStruct']['bbox'][i][0]][attr].value.squeeze()\n",
    "    if d.dtype == 'float64':\n",
    "        return d.reshape(-1)\n",
    "    return np.array([c[x].value for x in d]).squeeze()\n",
    "\n",
    "def get_label(c, i):\n",
    "    d = c[c['digitStruct']['name'][i][0]].value.tostring()\n",
    "    return d.replace('\\x00', '')\n",
    "\n",
    "def load_data(path):\n",
    "    c = h5py.File(path)\n",
    "    images = a = np.ndarray(shape=(c['digitStruct']['name'].shape[0], ), dtype='|S15')\n",
    "    labels = np.zeros((len(c['digitStruct']['bbox']), 6), dtype=float)\n",
    "    labels.fill(10)\n",
    "    tops = np.zeros((len(c['digitStruct']['bbox']), 6), dtype=float)\n",
    "    heights = np.zeros((len(c['digitStruct']['bbox']), 6), dtype=float)\n",
    "    widths = np.zeros((len(c['digitStruct']['bbox']), 6), dtype=float)\n",
    "    lefts = np.zeros((len(c['digitStruct']['bbox']), 6), dtype=float)\n",
    "    for i in xrange(c['digitStruct']['name'].shape[0]):\n",
    "        images[i] = get_label(c, i)\n",
    "        l = get_attr(c, i, 'label')\n",
    "        t = get_attr(c, i, 'top')\n",
    "        h = get_attr(c, i, 'height')\n",
    "        w = get_attr(c, i, 'width')\n",
    "        le = get_attr(c, i, 'left')\n",
    "        \n",
    "        labels[i, :l.shape[0]] = l\n",
    "        tops[i, :t.shape[0]] = t\n",
    "        heights[i, :h.shape[0]] = h\n",
    "        widths[i, :w.shape[0]] = w\n",
    "        lefts[i, :le.shape[0]] = le\n",
    "    \n",
    "        if (i % 5000 == 0):\n",
    "            print(i, \"elapsed\")\n",
    "    \n",
    "    return labels, images, tops, heights, widths, lefts"
   ]
  },
  {
   "cell_type": "code",
   "execution_count": 7,
   "metadata": {
    "collapsed": false
   },
   "outputs": [
    {
     "name": "stdout",
     "output_type": "stream",
     "text": [
      "0 elapsed\n",
      "5000 elapsed\n",
      "10000 elapsed\n",
      "15000 elapsed\n",
      "20000 elapsed\n",
      "25000 elapsed\n",
      "30000 elapsed\n",
      "0 elapsed\n",
      "5000 elapsed\n",
      "10000 elapsed\n",
      "0 elapsed\n",
      "5000 elapsed\n",
      "10000 elapsed\n",
      "15000 elapsed\n",
      "20000 elapsed\n",
      "25000 elapsed\n",
      "30000 elapsed\n",
      "35000 elapsed\n",
      "40000 elapsed\n",
      "45000 elapsed\n",
      "50000 elapsed\n",
      "55000 elapsed\n",
      "60000 elapsed\n",
      "65000 elapsed\n",
      "70000 elapsed\n",
      "75000 elapsed\n",
      "80000 elapsed\n",
      "85000 elapsed\n",
      "90000 elapsed\n",
      "95000 elapsed\n",
      "100000 elapsed\n",
      "105000 elapsed\n",
      "110000 elapsed\n",
      "115000 elapsed\n",
      "120000 elapsed\n",
      "125000 elapsed\n",
      "130000 elapsed\n",
      "135000 elapsed\n",
      "140000 elapsed\n",
      "145000 elapsed\n",
      "150000 elapsed\n",
      "155000 elapsed\n",
      "160000 elapsed\n",
      "165000 elapsed\n",
      "170000 elapsed\n",
      "175000 elapsed\n",
      "180000 elapsed\n",
      "185000 elapsed\n",
      "190000 elapsed\n",
      "195000 elapsed\n",
      "200000 elapsed\n"
     ]
    }
   ],
   "source": [
    "train__tuple = load_data('train/digitStruct.mat')\n",
    "test__tuple = load_data('test/digitStruct.mat')\n",
    "extra__tuple = load_data('extra/digitStruct.mat')"
   ]
  },
  {
   "cell_type": "code",
   "execution_count": 13,
   "metadata": {
    "collapsed": false
   },
   "outputs": [],
   "source": [
    "def maybe_pickle(struct, force=False):\n",
    "    if os.path.exists(struct + '.pickle') and not force:\n",
    "      # You may override by setting force=True.\n",
    "      print('%s already present - Skipping pickling.' % struct)\n",
    "    else:\n",
    "      print('Pickling %s.' % struct + '.pickle')\n",
    "      permutation = np.random.permutation(extra__tuple[1].shape[0])[:2000]\n",
    "      dataset = {\n",
    "            'train': {\n",
    "                'labels': train__tuple[0],\n",
    "                'images': train__tuple[1],  \n",
    "                'tops': train__tuple[2],\n",
    "                'heights': train__tuple[3],\n",
    "                'widths': train__tuple[4],\n",
    "                'lefts': train__tuple[5],\n",
    "                \n",
    "                \n",
    "            }, \n",
    "            'test': {\n",
    "                'labels': test__tuple[0],\n",
    "                'images': test__tuple[1],  \n",
    "                'tops': test__tuple[2],\n",
    "                'heights': test__tuple[3],\n",
    "                'widths': test__tuple[4],\n",
    "                'lefts': test__tuple[5],\n",
    "            },\n",
    "            'extra': {\n",
    "                'labels': extra__tuple[0],\n",
    "                'images': extra__tuple[1],  \n",
    "                'tops': extra__tuple[2],\n",
    "                'heights': extra__tuple[3],\n",
    "                'widths': extra__tuple[4],\n",
    "                'lefts': extra__tuple[5],\n",
    "            },\n",
    "            'valid': {\n",
    "                'labels': extra__tuple[0][permutation],\n",
    "                'images': extra__tuple[1][permutation],  \n",
    "                'tops': extra__tuple[2][permutation],\n",
    "                'heights': extra__tuple[3][permutation],\n",
    "                'widths': extra__tuple[4][permutation],\n",
    "                'lefts': extra__tuple[5][permutation],\n",
    "            }\n",
    "      }\n",
    "      try:\n",
    "        with open( struct + '.pickle', 'wb') as f:\n",
    "          pickle.dump(dataset, f, pickle.HIGHEST_PROTOCOL)\n",
    "      except Exception as e:\n",
    "        print('Unable to save data to',  struct + '.pickle', ':', e)\n",
    "  \n",
    "    return  struct + '.pickle'"
   ]
  },
  {
   "cell_type": "code",
   "execution_count": 12,
   "metadata": {
    "collapsed": false
   },
   "outputs": [
    {
     "data": {
      "text/plain": [
       "(4, 6)"
      ]
     },
     "execution_count": 12,
     "metadata": {},
     "output_type": "execute_result"
    }
   ],
   "source": [
    "extra__tuple[0][[1,2,3,4]].shape"
   ]
  },
  {
   "cell_type": "code",
   "execution_count": 14,
   "metadata": {
    "collapsed": false
   },
   "outputs": [
    {
     "name": "stdout",
     "output_type": "stream",
     "text": [
      "Pickling svhn..pickle\n"
     ]
    },
    {
     "data": {
      "text/plain": [
       "'svhn.pickle'"
      ]
     },
     "execution_count": 14,
     "metadata": {},
     "output_type": "execute_result"
    }
   ],
   "source": [
    "maybe_pickle('svhn')"
   ]
  },
  {
   "cell_type": "code",
   "execution_count": 15,
   "metadata": {
    "collapsed": false
   },
   "outputs": [],
   "source": [
    "with open('svhn.pickle', 'rb') as f:\n",
    "        dataset = pickle.load(f)"
   ]
  },
  {
   "cell_type": "code",
   "execution_count": 17,
   "metadata": {
    "collapsed": false
   },
   "outputs": [
    {
     "data": {
      "image/png": "[encoded data removed]",
      "text/plain": [
       "<matplotlib.figure.Figure at 0x7f80e98e0e10>"
      ]
     },
     "metadata": {},
     "output_type": "display_data"
    },
    {
     "data": {
      "image/png": "[encoded data removed]",
      "text/plain": [
       "<matplotlib.figure.Figure at 0x7f80e9f6ea50>"
      ]
     },
     "metadata": {},
     "output_type": "display_data"
    },
    {
     "data": {
      "image/png": "[encoded data removed]",
      "text/plain": [
       "<matplotlib.figure.Figure at 0x7f80e9e5e790>"
      ]
     },
     "metadata": {},
     "output_type": "display_data"
    }
   ],
   "source": [
    "c = Counter(np.sum(dataset[\"train\"][\"tops\"] > 0, axis =1))\n",
    "l = plt.bar(c.keys(), c.values(), 1, color=\"blue\")\n",
    "\n",
    "plt.xlabel('Number of characters')\n",
    "plt.ylabel('Sample Size')\n",
    "plt.grid(True)\n",
    "plt.title('Training Dataset')\n",
    "\n",
    "plt.show()\n",
    "\n",
    "c = Counter(np.sum(dataset[\"test\"][\"tops\"] > 0, axis =1))\n",
    "l = plt.bar(c.keys(), c.values(), 1, color=\"blue\")\n",
    "\n",
    "plt.xlabel('Number of characters')\n",
    "plt.ylabel('Sample Size')\n",
    "plt.grid(True)\n",
    "plt.title('Test Dataset')\n",
    "\n",
    "plt.show()\n",
    "\n",
    "c = Counter(np.sum(dataset[\"extra\"][\"tops\"] > 0, axis =1))\n",
    "l = plt.bar(c.keys(), c.values(), 1, color=\"blue\")\n",
    "\n",
    "plt.xlabel('Number of characters')\n",
    "plt.ylabel('Sample Size')\n",
    "plt.grid(True)\n",
    "plt.title('Test Dataset')\n",
    "\n",
    "plt.show()"
   ]
  },
  {
   "cell_type": "code",
   "execution_count": 13,
   "metadata": {
    "collapsed": false
   },
   "outputs": [
    {
     "data": {
      "text/plain": [
       "(13.45875541177187, 27.898607284970922, 24.0)"
      ]
     },
     "execution_count": 13,
     "metadata": {},
     "output_type": "execute_result"
    }
   ],
   "source": [
    "np.std(np.max(dataset[\"test\"][\"heights\"], axis=1)), np.mean(np.max(dataset[\"test\"][\"heights\"], axis=1)), \\\n",
    "np.median(np.max(dataset[\"test\"][\"heights\"], axis=1))"
   ]
  },
  {
   "cell_type": "code",
   "execution_count": 18,
   "metadata": {
    "collapsed": false
   },
   "outputs": [
    {
     "data": {
      "image/png": "[encoded data removed]",
      "text/plain": [
       "<matplotlib.figure.Figure at 0x7f80ea1c5910>"
      ]
     },
     "metadata": {},
     "output_type": "display_data"
    },
    {
     "data": {
      "image/png": "[encoded data removed]",
      "text/plain": [
       "<matplotlib.figure.Figure at 0x7f80e9ca9910>"
      ]
     },
     "metadata": {},
     "output_type": "display_data"
    },
    {
     "data": {
      "image/png": "[encoded data removed]",
      "text/plain": [
       "<matplotlib.figure.Figure at 0x7f80e9ca9890>"
      ]
     },
     "metadata": {},
     "output_type": "display_data"
    }
   ],
   "source": [
    "hist = np.histogram(dataset[\"train\"][\"heights\"] +dataset[\"train\"][\"tops\"], bins=20)\n",
    "y = hist[1][1:]\n",
    "l = plt.plot(hist[0][:], y, linewidth=1)\n",
    "\n",
    "plt.xlabel('Number of samples')\n",
    "plt.ylabel('Heights + Tops')\n",
    "plt.grid(True)\n",
    "\n",
    "plt.show()\n",
    "\n",
    "hist = np.histogram(dataset[\"train\"][\"widths\"] +dataset[\"train\"][\"lefts\"], bins=20)\n",
    "y = hist[1][1:]\n",
    "l = plt.plot(hist[0][:], y, linewidth=1)\n",
    "\n",
    "plt.xlabel('Number of samples')\n",
    "plt.ylabel('Widths + Lefts')\n",
    "plt.grid(True)\n",
    "\n",
    "plt.show()\n",
    "\n",
    "hist = np.histogram(dataset[\"extra\"][\"widths\"] +dataset[\"extra\"][\"lefts\"], bins=20)\n",
    "y = hist[1][1:]\n",
    "l = plt.plot(hist[0][:], y, linewidth=1)\n",
    "\n",
    "plt.xlabel('Number of samples')\n",
    "plt.ylabel('Widths + Lefts')\n",
    "plt.grid(True)\n",
    "\n",
    "plt.show()"
   ]
  },
  {
   "cell_type": "code",
   "execution_count": 14,
   "metadata": {
    "collapsed": true
   },
   "outputs": [],
   "source": []
  },
  {
   "cell_type": "code",
   "execution_count": null,
   "metadata": {
    "collapsed": false
   },
   "outputs": [],
   "source": []
  },
  {
   "cell_type": "code",
   "execution_count": null,
   "metadata": {
    "collapsed": true
   },
   "outputs": [],
   "source": []
  }
 ],
 "metadata": {
  "kernelspec": {
   "display_name": "Python 2",
   "language": "python",
   "name": "python2"
  },
  "language_info": {
   "codemirror_mode": {
    "name": "ipython",
    "version": 2
   },
   "file_extension": ".py",
   "mimetype": "text/x-python",
   "name": "python",
   "nbconvert_exporter": "python",
   "pygments_lexer": "ipython2",
   "version": "2.7.12"
  }
 },
 "nbformat": 4,
 "nbformat_minor": 1
}
